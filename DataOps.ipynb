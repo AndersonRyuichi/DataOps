{
 "cells": [
  {
   "cell_type": "markdown",
   "id": "cccfbad8-d733-4665-9326-242b2fab1e4a",
   "metadata": {},
   "source": [
    "## 1.1 Instalando Dependências"
   ]
  },
  {
   "cell_type": "code",
   "execution_count": 1,
   "id": "fb4d3fd7-c1a5-4169-bfc6-8f9906ca4a29",
   "metadata": {},
   "outputs": [
    {
     "name": "stdout",
     "output_type": "stream",
     "text": [
      "Collecting pymongo\n",
      "  Downloading pymongo-4.13.2-cp313-cp313-win_amd64.whl.metadata (22 kB)\n",
      "Collecting dnspython<3.0.0,>=1.16.0 (from pymongo)\n",
      "  Downloading dnspython-2.7.0-py3-none-any.whl.metadata (5.8 kB)\n",
      "Downloading pymongo-4.13.2-cp313-cp313-win_amd64.whl (955 kB)\n",
      "   ---------------------------------------- 0.0/955.1 kB ? eta -:--:--\n",
      "   ---------------------------------------- 0.0/955.1 kB ? eta -:--:--\n",
      "   ---------- ----------------------------- 262.1/955.1 kB ? eta -:--:--\n",
      "   ---------- ----------------------------- 262.1/955.1 kB ? eta -:--:--\n",
      "   -------------------- ----------------- 524.3/955.1 kB 741.9 kB/s eta 0:00:01\n",
      "   -------------------- ----------------- 524.3/955.1 kB 741.9 kB/s eta 0:00:01\n",
      "   ------------------------------- ------ 786.4/955.1 kB 754.8 kB/s eta 0:00:01\n",
      "   ------------------------------- ------ 786.4/955.1 kB 754.8 kB/s eta 0:00:01\n",
      "   ------------------------------- ------ 786.4/955.1 kB 754.8 kB/s eta 0:00:01\n",
      "   -------------------------------------- 955.1/955.1 kB 476.1 kB/s eta 0:00:00\n",
      "Downloading dnspython-2.7.0-py3-none-any.whl (313 kB)\n",
      "Installing collected packages: dnspython, pymongo\n",
      "\n",
      "   ---------------------------------------- 0/2 [dnspython]\n",
      "   ---------------------------------------- 0/2 [dnspython]\n",
      "   ---------------------------------------- 0/2 [dnspython]\n",
      "   ---------------------------------------- 0/2 [dnspython]\n",
      "   ---------------------------------------- 0/2 [dnspython]\n",
      "   ---------------------------------------- 0/2 [dnspython]\n",
      "   ---------------------------------------- 0/2 [dnspython]\n",
      "   ---------------------------------------- 0/2 [dnspython]\n",
      "   ---------------------------------------- 0/2 [dnspython]\n",
      "   ---------------------------------------- 0/2 [dnspython]\n",
      "   ---------------------------------------- 0/2 [dnspython]\n",
      "   ---------------------------------------- 0/2 [dnspython]\n",
      "   ---------------------------------------- 0/2 [dnspython]\n",
      "   -------------------- ------------------- 1/2 [pymongo]\n",
      "   -------------------- ------------------- 1/2 [pymongo]\n",
      "   -------------------- ------------------- 1/2 [pymongo]\n",
      "   -------------------- ------------------- 1/2 [pymongo]\n",
      "   -------------------- ------------------- 1/2 [pymongo]\n",
      "   -------------------- ------------------- 1/2 [pymongo]\n",
      "   -------------------- ------------------- 1/2 [pymongo]\n",
      "   -------------------- ------------------- 1/2 [pymongo]\n",
      "   -------------------- ------------------- 1/2 [pymongo]\n",
      "   -------------------- ------------------- 1/2 [pymongo]\n",
      "   -------------------- ------------------- 1/2 [pymongo]\n",
      "   -------------------- ------------------- 1/2 [pymongo]\n",
      "   -------------------- ------------------- 1/2 [pymongo]\n",
      "   -------------------- ------------------- 1/2 [pymongo]\n",
      "   -------------------- ------------------- 1/2 [pymongo]\n",
      "   -------------------- ------------------- 1/2 [pymongo]\n",
      "   -------------------- ------------------- 1/2 [pymongo]\n",
      "   -------------------- ------------------- 1/2 [pymongo]\n",
      "   ---------------------------------------- 2/2 [pymongo]\n",
      "\n",
      "Successfully installed dnspython-2.7.0 pymongo-4.13.2\n"
     ]
    }
   ],
   "source": [
    "!pip install pymongo"
   ]
  },
  {
   "cell_type": "code",
   "execution_count": 19,
   "id": "714b8fe8-e919-4698-8f41-98699db4c8af",
   "metadata": {},
   "outputs": [
    {
     "name": "stdout",
     "output_type": "stream",
     "text": [
      "Requirement already satisfied: pandas in t:\\downloads\\anaconda\\lib\\site-packages (2.2.3)\n",
      "Requirement already satisfied: numpy>=1.26.0 in t:\\downloads\\anaconda\\lib\\site-packages (from pandas) (2.1.3)\n",
      "Requirement already satisfied: python-dateutil>=2.8.2 in t:\\downloads\\anaconda\\lib\\site-packages (from pandas) (2.9.0.post0)\n",
      "Requirement already satisfied: pytz>=2020.1 in t:\\downloads\\anaconda\\lib\\site-packages (from pandas) (2024.1)\n",
      "Requirement already satisfied: tzdata>=2022.7 in t:\\downloads\\anaconda\\lib\\site-packages (from pandas) (2025.2)\n",
      "Requirement already satisfied: six>=1.5 in t:\\downloads\\anaconda\\lib\\site-packages (from python-dateutil>=2.8.2->pandas) (1.17.0)\n"
     ]
    }
   ],
   "source": [
    "!pip install pandas"
   ]
  },
  {
   "cell_type": "code",
   "execution_count": 20,
   "id": "40f27417-0e69-461f-a99c-e88387eade75",
   "metadata": {},
   "outputs": [],
   "source": [
    "import pymongo\n",
    "import pandas as pd"
   ]
  },
  {
   "cell_type": "markdown",
   "id": "f0177ca7-3ec7-4073-b6ea-d031ec13e598",
   "metadata": {},
   "source": [
    "## 1.2.\tCriação do Pandas Dataframe"
   ]
  },
  {
   "cell_type": "code",
   "execution_count": 33,
   "id": "1abca5df-d743-4020-8494-d214481a5744",
   "metadata": {},
   "outputs": [
    {
     "data": {
      "text/html": [
       "<div>\n",
       "<style scoped>\n",
       "    .dataframe tbody tr th:only-of-type {\n",
       "        vertical-align: middle;\n",
       "    }\n",
       "\n",
       "    .dataframe tbody tr th {\n",
       "        vertical-align: top;\n",
       "    }\n",
       "\n",
       "    .dataframe thead th {\n",
       "        text-align: right;\n",
       "    }\n",
       "</style>\n",
       "<table border=\"1\" class=\"dataframe\">\n",
       "  <thead>\n",
       "    <tr style=\"text-align: right;\">\n",
       "      <th></th>\n",
       "      <th>Carro</th>\n",
       "      <th>Cor</th>\n",
       "      <th>Montadora</th>\n",
       "    </tr>\n",
       "  </thead>\n",
       "  <tbody>\n",
       "    <tr>\n",
       "      <th>count</th>\n",
       "      <td>5</td>\n",
       "      <td>5</td>\n",
       "      <td>5</td>\n",
       "    </tr>\n",
       "    <tr>\n",
       "      <th>unique</th>\n",
       "      <td>5</td>\n",
       "      <td>4</td>\n",
       "      <td>5</td>\n",
       "    </tr>\n",
       "    <tr>\n",
       "      <th>top</th>\n",
       "      <td>Onix</td>\n",
       "      <td>Prata</td>\n",
       "      <td>Chevrolet</td>\n",
       "    </tr>\n",
       "    <tr>\n",
       "      <th>freq</th>\n",
       "      <td>1</td>\n",
       "      <td>2</td>\n",
       "      <td>1</td>\n",
       "    </tr>\n",
       "  </tbody>\n",
       "</table>\n",
       "</div>"
      ],
      "text/plain": [
       "       Carro    Cor  Montadora\n",
       "count      5      5          5\n",
       "unique     5      4          5\n",
       "top     Onix  Prata  Chevrolet\n",
       "freq       1      2          1"
      ]
     },
     "execution_count": 33,
     "metadata": {},
     "output_type": "execute_result"
    }
   ],
   "source": [
    "dados_carros = {\n",
    "    'Carro': ['Onix','Polo','Sandero','Fiesta','City'],\n",
    "    'Cor': ['Prata','Branco','Prata','Vermelho','Preto'],\n",
    "    'Montadora': ['Chevrolet','Volkswagen','Renault','Ford','Honda']\n",
    "}\n",
    "df_carros = pd.DataFrame(dados_carros)\n",
    "df_carros.describe()"
   ]
  },
  {
   "cell_type": "code",
   "execution_count": 34,
   "id": "6a3f60b3-3b3a-400b-b5e2-9f903bad82e7",
   "metadata": {},
   "outputs": [
    {
     "data": {
      "text/html": [
       "<div>\n",
       "<style scoped>\n",
       "    .dataframe tbody tr th:only-of-type {\n",
       "        vertical-align: middle;\n",
       "    }\n",
       "\n",
       "    .dataframe tbody tr th {\n",
       "        vertical-align: top;\n",
       "    }\n",
       "\n",
       "    .dataframe thead th {\n",
       "        text-align: right;\n",
       "    }\n",
       "</style>\n",
       "<table border=\"1\" class=\"dataframe\">\n",
       "  <thead>\n",
       "    <tr style=\"text-align: right;\">\n",
       "      <th></th>\n",
       "      <th>Montadora</th>\n",
       "      <th>País</th>\n",
       "    </tr>\n",
       "  </thead>\n",
       "  <tbody>\n",
       "    <tr>\n",
       "      <th>count</th>\n",
       "      <td>5</td>\n",
       "      <td>5</td>\n",
       "    </tr>\n",
       "    <tr>\n",
       "      <th>unique</th>\n",
       "      <td>5</td>\n",
       "      <td>4</td>\n",
       "    </tr>\n",
       "    <tr>\n",
       "      <th>top</th>\n",
       "      <td>Chevrolet</td>\n",
       "      <td>EUA</td>\n",
       "    </tr>\n",
       "    <tr>\n",
       "      <th>freq</th>\n",
       "      <td>1</td>\n",
       "      <td>2</td>\n",
       "    </tr>\n",
       "  </tbody>\n",
       "</table>\n",
       "</div>"
      ],
      "text/plain": [
       "        Montadora País\n",
       "count           5    5\n",
       "unique          5    4\n",
       "top     Chevrolet  EUA\n",
       "freq            1    2"
      ]
     },
     "execution_count": 34,
     "metadata": {},
     "output_type": "execute_result"
    }
   ],
   "source": [
    "dados_montadoras = {\n",
    "    'Montadora': ['Chevrolet','Volkswagen','Renault','Ford','Honda'],\n",
    "    'País': ['EUA','Alemanha','França','EUA','Japão']\n",
    "}\n",
    "df_montadoras = pd.DataFrame(dados_montadoras)\n",
    "df_montadoras.describe()"
   ]
  },
  {
   "cell_type": "markdown",
   "id": "daf36869-9e67-4d09-af9f-d0a64878e500",
   "metadata": {},
   "source": [
    "## 1.3.\tSalvar Pandas Dataframe no MongoDB"
   ]
  },
  {
   "cell_type": "code",
   "execution_count": 27,
   "id": "264b3471-3453-4788-a293-ce2f14262745",
   "metadata": {},
   "outputs": [],
   "source": [
    "client = pymongo.MongoClient(\"mongodb://localhost:27017\")\n",
    "local_database = client['local']"
   ]
  },
  {
   "cell_type": "code",
   "execution_count": 28,
   "id": "9a798bf0-4ec3-463b-9f2b-d90fefbbfe1b",
   "metadata": {},
   "outputs": [],
   "source": [
    "Carros_collection = local_database['Carros']"
   ]
  },
  {
   "cell_type": "code",
   "execution_count": 30,
   "id": "eb73fe4b-ad19-4b2f-8608-7f3e0a68592c",
   "metadata": {},
   "outputs": [],
   "source": [
    "Montadoras_collection = local_database['Montadoras']"
   ]
  },
  {
   "cell_type": "code",
   "execution_count": 31,
   "id": "c4b142be-9662-4c46-b4b6-ba741f892df6",
   "metadata": {},
   "outputs": [
    {
     "data": {
      "text/plain": [
       "Collection(Database(MongoClient(host=['localhost:27017'], document_class=dict, tz_aware=False, connect=True), 'local'), 'Carros')"
      ]
     },
     "execution_count": 31,
     "metadata": {},
     "output_type": "execute_result"
    }
   ],
   "source": [
    "Carros_collection"
   ]
  },
  {
   "cell_type": "code",
   "execution_count": 32,
   "id": "a13922f8-5af3-4949-ac5d-40bc830f1ed4",
   "metadata": {},
   "outputs": [
    {
     "data": {
      "text/plain": [
       "Collection(Database(MongoClient(host=['localhost:27017'], document_class=dict, tz_aware=False, connect=True), 'local'), 'Montadoras')"
      ]
     },
     "execution_count": 32,
     "metadata": {},
     "output_type": "execute_result"
    }
   ],
   "source": [
    "Montadoras_collection"
   ]
  },
  {
   "cell_type": "code",
   "execution_count": 36,
   "id": "dbc2a137-6326-47e0-ac0c-0bf0979ef96b",
   "metadata": {},
   "outputs": [
    {
     "data": {
      "text/plain": [
       "[{'Carro': 'Onix', 'Cor': 'Prata', 'Montadora': 'Chevrolet'},\n",
       " {'Carro': 'Polo', 'Cor': 'Branco', 'Montadora': 'Volkswagen'},\n",
       " {'Carro': 'Sandero', 'Cor': 'Prata', 'Montadora': 'Renault'},\n",
       " {'Carro': 'Fiesta', 'Cor': 'Vermelho', 'Montadora': 'Ford'},\n",
       " {'Carro': 'City', 'Cor': 'Preto', 'Montadora': 'Honda'}]"
      ]
     },
     "execution_count": 36,
     "metadata": {},
     "output_type": "execute_result"
    }
   ],
   "source": [
    "df_carros.to_dict(orient=\"records\")"
   ]
  },
  {
   "cell_type": "code",
   "execution_count": 37,
   "id": "c474a821-9ff1-40a8-a409-b9b3c13d6692",
   "metadata": {},
   "outputs": [
    {
     "data": {
      "text/plain": [
       "InsertManyResult([ObjectId('68782b1b944b77d2780a2feb'), ObjectId('68782b1b944b77d2780a2fec'), ObjectId('68782b1b944b77d2780a2fed'), ObjectId('68782b1b944b77d2780a2fee'), ObjectId('68782b1b944b77d2780a2fef')], acknowledged=True)"
      ]
     },
     "execution_count": 37,
     "metadata": {},
     "output_type": "execute_result"
    }
   ],
   "source": [
    "Carros_collection.insert_many(df_carros.to_dict(orient=\"records\"))"
   ]
  },
  {
   "cell_type": "code",
   "execution_count": 39,
   "id": "6ca8e352-56ac-48e5-81b5-685a80e172da",
   "metadata": {},
   "outputs": [
    {
     "data": {
      "text/plain": [
       "[{'Montadora': 'Chevrolet', 'País': 'EUA'},\n",
       " {'Montadora': 'Volkswagen', 'País': 'Alemanha'},\n",
       " {'Montadora': 'Renault', 'País': 'França'},\n",
       " {'Montadora': 'Ford', 'País': 'EUA'},\n",
       " {'Montadora': 'Honda', 'País': 'Japão'}]"
      ]
     },
     "execution_count": 39,
     "metadata": {},
     "output_type": "execute_result"
    }
   ],
   "source": [
    "df_montadoras.to_dict(orient=\"records\")"
   ]
  },
  {
   "cell_type": "code",
   "execution_count": 40,
   "id": "560c3bcc-efaa-4485-b2ce-2135a12c78b2",
   "metadata": {},
   "outputs": [
    {
     "data": {
      "text/plain": [
       "InsertManyResult([ObjectId('68782b5d944b77d2780a2ff0'), ObjectId('68782b5d944b77d2780a2ff1'), ObjectId('68782b5d944b77d2780a2ff2'), ObjectId('68782b5d944b77d2780a2ff3'), ObjectId('68782b5d944b77d2780a2ff4')], acknowledged=True)"
      ]
     },
     "execution_count": 40,
     "metadata": {},
     "output_type": "execute_result"
    }
   ],
   "source": [
    "Montadoras_collection.insert_many(df_montadoras.to_dict(orient=\"records\"))"
   ]
  },
  {
   "cell_type": "code",
   "execution_count": 41,
   "id": "3788426d-342d-47e6-acfd-cb475f331183",
   "metadata": {},
   "outputs": [
    {
     "data": {
      "text/plain": [
       "{'_id': ObjectId('68782b5d944b77d2780a2ff0'),\n",
       " 'Montadora': 'Chevrolet',\n",
       " 'País': 'EUA'}"
      ]
     },
     "execution_count": 41,
     "metadata": {},
     "output_type": "execute_result"
    }
   ],
   "source": [
    "Montadoras_collection.find()[0]"
   ]
  },
  {
   "cell_type": "markdown",
   "id": "2b7ef308-e988-436f-b90e-489a1599e7a5",
   "metadata": {},
   "source": [
    "## 1.4.\tCriando Agregação no MongoDB"
   ]
  },
  {
   "cell_type": "code",
   "execution_count": 65,
   "id": "cd78ef83-2010-47d0-b444-33dd131bc434",
   "metadata": {},
   "outputs": [
    {
     "data": {
      "text/html": [
       "<div>\n",
       "<style scoped>\n",
       "    .dataframe tbody tr th:only-of-type {\n",
       "        vertical-align: middle;\n",
       "    }\n",
       "\n",
       "    .dataframe tbody tr th {\n",
       "        vertical-align: top;\n",
       "    }\n",
       "\n",
       "    .dataframe thead th {\n",
       "        text-align: right;\n",
       "    }\n",
       "</style>\n",
       "<table border=\"1\" class=\"dataframe\">\n",
       "  <thead>\n",
       "    <tr style=\"text-align: right;\">\n",
       "      <th></th>\n",
       "      <th>_id</th>\n",
       "      <th>Carro</th>\n",
       "      <th>Cor</th>\n",
       "      <th>Montadora</th>\n",
       "      <th>Montadoras</th>\n",
       "      <th>Pais</th>\n",
       "    </tr>\n",
       "  </thead>\n",
       "  <tbody>\n",
       "    <tr>\n",
       "      <th>0</th>\n",
       "      <td>68782b1b944b77d2780a2feb</td>\n",
       "      <td>Onix</td>\n",
       "      <td>Prata</td>\n",
       "      <td>Chevrolet</td>\n",
       "      <td>[{'_id': 68782b5d944b77d2780a2ff0, 'Montadora'...</td>\n",
       "      <td>EUA</td>\n",
       "    </tr>\n",
       "    <tr>\n",
       "      <th>1</th>\n",
       "      <td>68782b1b944b77d2780a2fec</td>\n",
       "      <td>Polo</td>\n",
       "      <td>Branco</td>\n",
       "      <td>Volkswagen</td>\n",
       "      <td>[{'_id': 68782b5d944b77d2780a2ff1, 'Montadora'...</td>\n",
       "      <td>Alemanha</td>\n",
       "    </tr>\n",
       "    <tr>\n",
       "      <th>2</th>\n",
       "      <td>68782b1b944b77d2780a2fed</td>\n",
       "      <td>Sandero</td>\n",
       "      <td>Prata</td>\n",
       "      <td>Renault</td>\n",
       "      <td>[{'_id': 68782b5d944b77d2780a2ff2, 'Montadora'...</td>\n",
       "      <td>França</td>\n",
       "    </tr>\n",
       "    <tr>\n",
       "      <th>3</th>\n",
       "      <td>68782b1b944b77d2780a2fee</td>\n",
       "      <td>Fiesta</td>\n",
       "      <td>Vermelho</td>\n",
       "      <td>Ford</td>\n",
       "      <td>[{'_id': 68782b5d944b77d2780a2ff3, 'Montadora'...</td>\n",
       "      <td>EUA</td>\n",
       "    </tr>\n",
       "    <tr>\n",
       "      <th>4</th>\n",
       "      <td>68782b1b944b77d2780a2fef</td>\n",
       "      <td>City</td>\n",
       "      <td>Preto</td>\n",
       "      <td>Honda</td>\n",
       "      <td>[{'_id': 68782b5d944b77d2780a2ff4, 'Montadora'...</td>\n",
       "      <td>Japão</td>\n",
       "    </tr>\n",
       "  </tbody>\n",
       "</table>\n",
       "</div>"
      ],
      "text/plain": [
       "                        _id    Carro       Cor   Montadora  \\\n",
       "0  68782b1b944b77d2780a2feb     Onix     Prata   Chevrolet   \n",
       "1  68782b1b944b77d2780a2fec     Polo    Branco  Volkswagen   \n",
       "2  68782b1b944b77d2780a2fed  Sandero     Prata     Renault   \n",
       "3  68782b1b944b77d2780a2fee   Fiesta  Vermelho        Ford   \n",
       "4  68782b1b944b77d2780a2fef     City     Preto       Honda   \n",
       "\n",
       "                                          Montadoras      Pais  \n",
       "0  [{'_id': 68782b5d944b77d2780a2ff0, 'Montadora'...       EUA  \n",
       "1  [{'_id': 68782b5d944b77d2780a2ff1, 'Montadora'...  Alemanha  \n",
       "2  [{'_id': 68782b5d944b77d2780a2ff2, 'Montadora'...    França  \n",
       "3  [{'_id': 68782b5d944b77d2780a2ff3, 'Montadora'...       EUA  \n",
       "4  [{'_id': 68782b5d944b77d2780a2ff4, 'Montadora'...     Japão  "
      ]
     },
     "execution_count": 65,
     "metadata": {},
     "output_type": "execute_result"
    }
   ],
   "source": [
    "# dict de LOOKUP\n",
    "# seleção de carros realizando lookup em montadoras\n",
    "montadoras_lookup = {\n",
    "    \"$lookup\": {\n",
    "        \"from\": \"Montadoras\",\n",
    "        \"localField\": \"Montadora\",\n",
    "        \"foreignField\": \"Montadora\",\n",
    "        \"as\": \"Montadoras\",\n",
    "    }\n",
    "}\n",
    "\n",
    "projecao = {\n",
    "    \"$project\": {\n",
    "        \"_id\": 1,\n",
    "        \"Carro\": 1,\n",
    "        \"Cor\": 1,\n",
    "        \"Montadora\": 1,\n",
    "        \"Montadoras\": 1,\n",
    "        \"Pais\":{\n",
    "            \"$arrayElemAt\": [\"$Montadoras.País\", 0]\n",
    "        }\n",
    "    }\n",
    "}\n",
    "\n",
    "# Montar o pipeline\n",
    "pipeline_lookup = [montadoras_lookup, projecao]\n",
    "\n",
    "# Puxar um aggregate do collection passando a pipeline de LOOKUP\n",
    "resultados_agregacao = Carros_collection.aggregate(pipeline_lookup)\n",
    "resultados_agregacao_list = list(resultados_agregacao)\n",
    "\n",
    "# Mostrar resultados\n",
    "df_resultados_agregacao = pd.DataFrame(resultados_agregacao_list)\n",
    "df_resultados_agregacao"
   ]
  },
  {
   "cell_type": "code",
   "execution_count": 66,
   "id": "f7f07dfc-7ce3-40b3-a9a3-25dcf985ac70",
   "metadata": {},
   "outputs": [
    {
     "data": {
      "text/plain": [
       "[{'_id': ObjectId('68782b1b944b77d2780a2feb'),\n",
       "  'Carro': 'Onix',\n",
       "  'Cor': 'Prata',\n",
       "  'Montadora': 'Chevrolet',\n",
       "  'Montadoras': [{'_id': ObjectId('68782b5d944b77d2780a2ff0'),\n",
       "    'Montadora': 'Chevrolet',\n",
       "    'País': 'EUA'}],\n",
       "  'Pais': 'EUA'},\n",
       " {'_id': ObjectId('68782b1b944b77d2780a2fec'),\n",
       "  'Carro': 'Polo',\n",
       "  'Cor': 'Branco',\n",
       "  'Montadora': 'Volkswagen',\n",
       "  'Montadoras': [{'_id': ObjectId('68782b5d944b77d2780a2ff1'),\n",
       "    'Montadora': 'Volkswagen',\n",
       "    'País': 'Alemanha'}],\n",
       "  'Pais': 'Alemanha'},\n",
       " {'_id': ObjectId('68782b1b944b77d2780a2fed'),\n",
       "  'Carro': 'Sandero',\n",
       "  'Cor': 'Prata',\n",
       "  'Montadora': 'Renault',\n",
       "  'Montadoras': [{'_id': ObjectId('68782b5d944b77d2780a2ff2'),\n",
       "    'Montadora': 'Renault',\n",
       "    'País': 'França'}],\n",
       "  'Pais': 'França'},\n",
       " {'_id': ObjectId('68782b1b944b77d2780a2fee'),\n",
       "  'Carro': 'Fiesta',\n",
       "  'Cor': 'Vermelho',\n",
       "  'Montadora': 'Ford',\n",
       "  'Montadoras': [{'_id': ObjectId('68782b5d944b77d2780a2ff3'),\n",
       "    'Montadora': 'Ford',\n",
       "    'País': 'EUA'}],\n",
       "  'Pais': 'EUA'},\n",
       " {'_id': ObjectId('68782b1b944b77d2780a2fef'),\n",
       "  'Carro': 'City',\n",
       "  'Cor': 'Preto',\n",
       "  'Montadora': 'Honda',\n",
       "  'Montadoras': [{'_id': ObjectId('68782b5d944b77d2780a2ff4'),\n",
       "    'Montadora': 'Honda',\n",
       "    'País': 'Japão'}],\n",
       "  'Pais': 'Japão'}]"
      ]
     },
     "execution_count": 66,
     "metadata": {},
     "output_type": "execute_result"
    }
   ],
   "source": [
    "resultados_agregacao_list"
   ]
  },
  {
   "cell_type": "markdown",
   "id": "00e5ce9e-8408-4473-b5a6-1776d924dc36",
   "metadata": {},
   "source": [
    "## 1.5. Agrupando informações"
   ]
  },
  {
   "cell_type": "code",
   "execution_count": 67,
   "id": "4ea565de-b57d-4ee6-93b9-d1c35c275ae5",
   "metadata": {},
   "outputs": [
    {
     "data": {
      "text/html": [
       "<div>\n",
       "<style scoped>\n",
       "    .dataframe tbody tr th:only-of-type {\n",
       "        vertical-align: middle;\n",
       "    }\n",
       "\n",
       "    .dataframe tbody tr th {\n",
       "        vertical-align: top;\n",
       "    }\n",
       "\n",
       "    .dataframe thead th {\n",
       "        text-align: right;\n",
       "    }\n",
       "</style>\n",
       "<table border=\"1\" class=\"dataframe\">\n",
       "  <thead>\n",
       "    <tr style=\"text-align: right;\">\n",
       "      <th></th>\n",
       "      <th>_id</th>\n",
       "      <th>Carros</th>\n",
       "    </tr>\n",
       "  </thead>\n",
       "  <tbody>\n",
       "    <tr>\n",
       "      <th>0</th>\n",
       "      <td>EUA</td>\n",
       "      <td>[{'Carro': 'Onix', 'Cor': 'Prata', 'Montadora'...</td>\n",
       "    </tr>\n",
       "    <tr>\n",
       "      <th>1</th>\n",
       "      <td>França</td>\n",
       "      <td>[{'Carro': 'Sandero', 'Cor': 'Prata', 'Montado...</td>\n",
       "    </tr>\n",
       "    <tr>\n",
       "      <th>2</th>\n",
       "      <td>Alemanha</td>\n",
       "      <td>[{'Carro': 'Polo', 'Cor': 'Branco', 'Montadora...</td>\n",
       "    </tr>\n",
       "    <tr>\n",
       "      <th>3</th>\n",
       "      <td>Japão</td>\n",
       "      <td>[{'Carro': 'City', 'Cor': 'Preto', 'Montadora'...</td>\n",
       "    </tr>\n",
       "  </tbody>\n",
       "</table>\n",
       "</div>"
      ],
      "text/plain": [
       "        _id                                             Carros\n",
       "0       EUA  [{'Carro': 'Onix', 'Cor': 'Prata', 'Montadora'...\n",
       "1    França  [{'Carro': 'Sandero', 'Cor': 'Prata', 'Montado...\n",
       "2  Alemanha  [{'Carro': 'Polo', 'Cor': 'Branco', 'Montadora...\n",
       "3     Japão  [{'Carro': 'City', 'Cor': 'Preto', 'Montadora'..."
      ]
     },
     "execution_count": 67,
     "metadata": {},
     "output_type": "execute_result"
    }
   ],
   "source": [
    "# definir dict de LOOKUP\n",
    "# selecionar carros realizando LOOKUP em montadora\n",
    "\n",
    "# dict de LOOKUP\n",
    "# seleção de carros realizando lookup em montadoras\n",
    "montadoras_lookup = {\n",
    "    \"$lookup\": {\n",
    "        \"from\": \"Montadoras\",\n",
    "        \"localField\": \"Montadora\",\n",
    "        \"foreignField\": \"Montadora\",\n",
    "        \"as\": \"Montadoras\",\n",
    "    }\n",
    "}\n",
    "\n",
    "projecao = {\n",
    "    \"$project\": {\n",
    "        \"_id\": 1,\n",
    "        \"Carro\": 1,\n",
    "        \"Cor\": 1,\n",
    "        \"Montadora\": 1,\n",
    "        \"Montadoras\": 1,\n",
    "        \"Pais\":{\n",
    "            \"$arrayElemAt\": [\"$Montadoras.País\", 0]\n",
    "        }\n",
    "    }\n",
    "}\n",
    "\n",
    "agrupamento = {\n",
    "    \"$group\": {\n",
    "        \"_id\": \"$Pais\",\n",
    "        \"Carros\": {\n",
    "            \"$push\": {\n",
    "                \"Carro\": \"$Carro\", \"Cor\": \"$Cor\", \"Montadora\": \"$Montadora\"\n",
    "            }\n",
    "        }\n",
    "    }\n",
    "}\n",
    "\n",
    "# Montar o pipeline\n",
    "pipeline_lookup = [montadoras_lookup, projecao, agrupamento]\n",
    "\n",
    "# Puxar um aggregate do collection passando a pipeline de LOOKUP\n",
    "resultados_agregacao_group = Carros_collection.aggregate(pipeline_lookup)\n",
    "resultados_agregacao_list_group = list(resultados_agregacao_group)\n",
    "\n",
    "# Mostrar resultados\n",
    "df_resultados_agregacao_group = pd.DataFrame(resultados_agregacao_list_group)\n",
    "df_resultados_agregacao_group"
   ]
  },
  {
   "cell_type": "code",
   "execution_count": 69,
   "id": "91782419-69dc-4241-9911-51d469ef55b9",
   "metadata": {},
   "outputs": [
    {
     "data": {
      "text/plain": [
       "[{'_id': 'EUA',\n",
       "  'Carros': [{'Carro': 'Onix', 'Cor': 'Prata', 'Montadora': 'Chevrolet'},\n",
       "   {'Carro': 'Fiesta', 'Cor': 'Vermelho', 'Montadora': 'Ford'}]},\n",
       " {'_id': 'França',\n",
       "  'Carros': [{'Carro': 'Sandero', 'Cor': 'Prata', 'Montadora': 'Renault'}]},\n",
       " {'_id': 'Alemanha',\n",
       "  'Carros': [{'Carro': 'Polo', 'Cor': 'Branco', 'Montadora': 'Volkswagen'}]},\n",
       " {'_id': 'Japão',\n",
       "  'Carros': [{'Carro': 'City', 'Cor': 'Preto', 'Montadora': 'Honda'}]}]"
      ]
     },
     "execution_count": 69,
     "metadata": {},
     "output_type": "execute_result"
    }
   ],
   "source": [
    "resultados_agregacao_list_group"
   ]
  },
  {
   "cell_type": "code",
   "execution_count": null,
   "id": "edebbfd8-6f74-453b-8c60-067635a82969",
   "metadata": {},
   "outputs": [],
   "source": []
  }
 ],
 "metadata": {
  "kernelspec": {
   "display_name": "Python 3 (ipykernel)",
   "language": "python",
   "name": "python3"
  },
  "language_info": {
   "codemirror_mode": {
    "name": "ipython",
    "version": 3
   },
   "file_extension": ".py",
   "mimetype": "text/x-python",
   "name": "python",
   "nbconvert_exporter": "python",
   "pygments_lexer": "ipython3",
   "version": "3.13.5"
  }
 },
 "nbformat": 4,
 "nbformat_minor": 5
}
